{
  "nbformat": 4,
  "nbformat_minor": 0,
  "metadata": {
    "colab": {
      "name": "overfitting.ipynb",
      "provenance": [],
      "include_colab_link": true
    },
    "kernelspec": {
      "name": "python3",
      "display_name": "Python 3"
    },
    "language_info": {
      "name": "python"
    }
  },
  "cells": [
    {
      "cell_type": "markdown",
      "metadata": {
        "id": "view-in-github",
        "colab_type": "text"
      },
      "source": [
        "<a href=\"https://colab.research.google.com/github/EnFiore/machine-learning-fondamenti/blob/main/4%20-%20Overfitting%20e%20Tecniche%20di%20Regolarizzazione/overfitting.ipynb\" target=\"_parent\"><img src=\"https://colab.research.google.com/assets/colab-badge.svg\" alt=\"Open In Colab\"/></a>"
      ]
    },
    {
      "cell_type": "markdown",
      "source": [
        "## Riconoscere l'overfitting\n"
      ],
      "metadata": {
        "id": "pSMJzq2XB5Dd"
      }
    },
    {
      "cell_type": "code",
      "execution_count": 1,
      "metadata": {
        "id": "QB_Wb9t1Bybg"
      },
      "outputs": [],
      "source": [
        "import numpy as np\n",
        "from sklearn.datasets import make_regression\n",
        "from sklearn.linear_model import LinearRegression\n",
        "from sklearn.preprocessing import StandardScaler\n",
        "from sklearn.metrics import mean_squared_error, r2_score"
      ]
    },
    {
      "cell_type": "code",
      "source": [
        "RANDOM_SEED = 0"
      ],
      "metadata": {
        "id": "EntnLntnC2Ag"
      },
      "execution_count": 2,
      "outputs": []
    },
    {
      "cell_type": "code",
      "source": [
        "from sklearn.model_selection import train_test_split\n",
        "#crea dataset su cui creare il modello\n",
        "X, y = make_regression(n_samples=100, n_features=100, n_informative=10, n_targets=1, bias=0.0, tail_strength=0.5, noise=50.0, random_state=RANDOM_SEED)\n",
        "print(X.shape, y.shape)"
      ],
      "metadata": {
        "colab": {
          "base_uri": "https://localhost:8080/"
        },
        "id": "fP22iyyNCGnn",
        "outputId": "cbae1934-3bd6-4794-a370-d385524a0cd2"
      },
      "execution_count": 5,
      "outputs": [
        {
          "output_type": "stream",
          "name": "stdout",
          "text": [
            "(100, 100) (100,)\n"
          ]
        }
      ]
    },
    {
      "cell_type": "markdown",
      "source": [
        "### Hold-out"
      ],
      "metadata": {
        "id": "bUa7HOqgEwvE"
      }
    },
    {
      "cell_type": "code",
      "source": [
        "#divido il dataset in train e test\n",
        "X_train, X_test, y_train, y_test = train_test_split(X, y, random_state=RANDOM_SEED)\n",
        "print(X_train.shape, y_train.shape)\n",
        "print(X_test.shape, y_test.shape)"
      ],
      "metadata": {
        "colab": {
          "base_uri": "https://localhost:8080/"
        },
        "id": "km2EJTiXEwNG",
        "outputId": "a517c551-f061-4f8d-ae20-ca8e4265c7a8"
      },
      "execution_count": 6,
      "outputs": [
        {
          "output_type": "stream",
          "name": "stdout",
          "text": [
            "(75, 100) (75,)\n",
            "(25, 100) (25,)\n"
          ]
        }
      ]
    },
    {
      "cell_type": "code",
      "source": [
        "ss = StandardScaler()\n",
        "#la standardizazione deve essere effettuata solo sui dati train\n",
        "#i dati di test sono trasformati utilizzando la trasformazione del set train\n",
        "X_train = ss.fit_transform(X_train)\n",
        "X_test = ss.transform(X_test)"
      ],
      "metadata": {
        "id": "Dj8LnjYsFShG"
      },
      "execution_count": 7,
      "outputs": []
    },
    {
      "cell_type": "code",
      "source": [
        "lr = LinearRegression()\n",
        "#si crea il modello sul set di train\n",
        "lr.fit(X_train, y_train)"
      ],
      "metadata": {
        "colab": {
          "base_uri": "https://localhost:8080/",
          "height": 80
        },
        "id": "bIlYP7KhCUo4",
        "outputId": "dc44d4bc-5723-4dd8-c867-3ebc66e8bc20"
      },
      "execution_count": 8,
      "outputs": [
        {
          "output_type": "execute_result",
          "data": {
            "text/plain": [
              "LinearRegression()"
            ],
            "text/html": [
              "<style>#sk-container-id-1 {\n",
              "  /* Definition of color scheme common for light and dark mode */\n",
              "  --sklearn-color-text: #000;\n",
              "  --sklearn-color-text-muted: #666;\n",
              "  --sklearn-color-line: gray;\n",
              "  /* Definition of color scheme for unfitted estimators */\n",
              "  --sklearn-color-unfitted-level-0: #fff5e6;\n",
              "  --sklearn-color-unfitted-level-1: #f6e4d2;\n",
              "  --sklearn-color-unfitted-level-2: #ffe0b3;\n",
              "  --sklearn-color-unfitted-level-3: chocolate;\n",
              "  /* Definition of color scheme for fitted estimators */\n",
              "  --sklearn-color-fitted-level-0: #f0f8ff;\n",
              "  --sklearn-color-fitted-level-1: #d4ebff;\n",
              "  --sklearn-color-fitted-level-2: #b3dbfd;\n",
              "  --sklearn-color-fitted-level-3: cornflowerblue;\n",
              "\n",
              "  /* Specific color for light theme */\n",
              "  --sklearn-color-text-on-default-background: var(--sg-text-color, var(--theme-code-foreground, var(--jp-content-font-color1, black)));\n",
              "  --sklearn-color-background: var(--sg-background-color, var(--theme-background, var(--jp-layout-color0, white)));\n",
              "  --sklearn-color-border-box: var(--sg-text-color, var(--theme-code-foreground, var(--jp-content-font-color1, black)));\n",
              "  --sklearn-color-icon: #696969;\n",
              "\n",
              "  @media (prefers-color-scheme: dark) {\n",
              "    /* Redefinition of color scheme for dark theme */\n",
              "    --sklearn-color-text-on-default-background: var(--sg-text-color, var(--theme-code-foreground, var(--jp-content-font-color1, white)));\n",
              "    --sklearn-color-background: var(--sg-background-color, var(--theme-background, var(--jp-layout-color0, #111)));\n",
              "    --sklearn-color-border-box: var(--sg-text-color, var(--theme-code-foreground, var(--jp-content-font-color1, white)));\n",
              "    --sklearn-color-icon: #878787;\n",
              "  }\n",
              "}\n",
              "\n",
              "#sk-container-id-1 {\n",
              "  color: var(--sklearn-color-text);\n",
              "}\n",
              "\n",
              "#sk-container-id-1 pre {\n",
              "  padding: 0;\n",
              "}\n",
              "\n",
              "#sk-container-id-1 input.sk-hidden--visually {\n",
              "  border: 0;\n",
              "  clip: rect(1px 1px 1px 1px);\n",
              "  clip: rect(1px, 1px, 1px, 1px);\n",
              "  height: 1px;\n",
              "  margin: -1px;\n",
              "  overflow: hidden;\n",
              "  padding: 0;\n",
              "  position: absolute;\n",
              "  width: 1px;\n",
              "}\n",
              "\n",
              "#sk-container-id-1 div.sk-dashed-wrapped {\n",
              "  border: 1px dashed var(--sklearn-color-line);\n",
              "  margin: 0 0.4em 0.5em 0.4em;\n",
              "  box-sizing: border-box;\n",
              "  padding-bottom: 0.4em;\n",
              "  background-color: var(--sklearn-color-background);\n",
              "}\n",
              "\n",
              "#sk-container-id-1 div.sk-container {\n",
              "  /* jupyter's `normalize.less` sets `[hidden] { display: none; }`\n",
              "     but bootstrap.min.css set `[hidden] { display: none !important; }`\n",
              "     so we also need the `!important` here to be able to override the\n",
              "     default hidden behavior on the sphinx rendered scikit-learn.org.\n",
              "     See: https://github.com/scikit-learn/scikit-learn/issues/21755 */\n",
              "  display: inline-block !important;\n",
              "  position: relative;\n",
              "}\n",
              "\n",
              "#sk-container-id-1 div.sk-text-repr-fallback {\n",
              "  display: none;\n",
              "}\n",
              "\n",
              "div.sk-parallel-item,\n",
              "div.sk-serial,\n",
              "div.sk-item {\n",
              "  /* draw centered vertical line to link estimators */\n",
              "  background-image: linear-gradient(var(--sklearn-color-text-on-default-background), var(--sklearn-color-text-on-default-background));\n",
              "  background-size: 2px 100%;\n",
              "  background-repeat: no-repeat;\n",
              "  background-position: center center;\n",
              "}\n",
              "\n",
              "/* Parallel-specific style estimator block */\n",
              "\n",
              "#sk-container-id-1 div.sk-parallel-item::after {\n",
              "  content: \"\";\n",
              "  width: 100%;\n",
              "  border-bottom: 2px solid var(--sklearn-color-text-on-default-background);\n",
              "  flex-grow: 1;\n",
              "}\n",
              "\n",
              "#sk-container-id-1 div.sk-parallel {\n",
              "  display: flex;\n",
              "  align-items: stretch;\n",
              "  justify-content: center;\n",
              "  background-color: var(--sklearn-color-background);\n",
              "  position: relative;\n",
              "}\n",
              "\n",
              "#sk-container-id-1 div.sk-parallel-item {\n",
              "  display: flex;\n",
              "  flex-direction: column;\n",
              "}\n",
              "\n",
              "#sk-container-id-1 div.sk-parallel-item:first-child::after {\n",
              "  align-self: flex-end;\n",
              "  width: 50%;\n",
              "}\n",
              "\n",
              "#sk-container-id-1 div.sk-parallel-item:last-child::after {\n",
              "  align-self: flex-start;\n",
              "  width: 50%;\n",
              "}\n",
              "\n",
              "#sk-container-id-1 div.sk-parallel-item:only-child::after {\n",
              "  width: 0;\n",
              "}\n",
              "\n",
              "/* Serial-specific style estimator block */\n",
              "\n",
              "#sk-container-id-1 div.sk-serial {\n",
              "  display: flex;\n",
              "  flex-direction: column;\n",
              "  align-items: center;\n",
              "  background-color: var(--sklearn-color-background);\n",
              "  padding-right: 1em;\n",
              "  padding-left: 1em;\n",
              "}\n",
              "\n",
              "\n",
              "/* Toggleable style: style used for estimator/Pipeline/ColumnTransformer box that is\n",
              "clickable and can be expanded/collapsed.\n",
              "- Pipeline and ColumnTransformer use this feature and define the default style\n",
              "- Estimators will overwrite some part of the style using the `sk-estimator` class\n",
              "*/\n",
              "\n",
              "/* Pipeline and ColumnTransformer style (default) */\n",
              "\n",
              "#sk-container-id-1 div.sk-toggleable {\n",
              "  /* Default theme specific background. It is overwritten whether we have a\n",
              "  specific estimator or a Pipeline/ColumnTransformer */\n",
              "  background-color: var(--sklearn-color-background);\n",
              "}\n",
              "\n",
              "/* Toggleable label */\n",
              "#sk-container-id-1 label.sk-toggleable__label {\n",
              "  cursor: pointer;\n",
              "  display: flex;\n",
              "  width: 100%;\n",
              "  margin-bottom: 0;\n",
              "  padding: 0.5em;\n",
              "  box-sizing: border-box;\n",
              "  text-align: center;\n",
              "  align-items: start;\n",
              "  justify-content: space-between;\n",
              "  gap: 0.5em;\n",
              "}\n",
              "\n",
              "#sk-container-id-1 label.sk-toggleable__label .caption {\n",
              "  font-size: 0.6rem;\n",
              "  font-weight: lighter;\n",
              "  color: var(--sklearn-color-text-muted);\n",
              "}\n",
              "\n",
              "#sk-container-id-1 label.sk-toggleable__label-arrow:before {\n",
              "  /* Arrow on the left of the label */\n",
              "  content: \"▸\";\n",
              "  float: left;\n",
              "  margin-right: 0.25em;\n",
              "  color: var(--sklearn-color-icon);\n",
              "}\n",
              "\n",
              "#sk-container-id-1 label.sk-toggleable__label-arrow:hover:before {\n",
              "  color: var(--sklearn-color-text);\n",
              "}\n",
              "\n",
              "/* Toggleable content - dropdown */\n",
              "\n",
              "#sk-container-id-1 div.sk-toggleable__content {\n",
              "  max-height: 0;\n",
              "  max-width: 0;\n",
              "  overflow: hidden;\n",
              "  text-align: left;\n",
              "  /* unfitted */\n",
              "  background-color: var(--sklearn-color-unfitted-level-0);\n",
              "}\n",
              "\n",
              "#sk-container-id-1 div.sk-toggleable__content.fitted {\n",
              "  /* fitted */\n",
              "  background-color: var(--sklearn-color-fitted-level-0);\n",
              "}\n",
              "\n",
              "#sk-container-id-1 div.sk-toggleable__content pre {\n",
              "  margin: 0.2em;\n",
              "  border-radius: 0.25em;\n",
              "  color: var(--sklearn-color-text);\n",
              "  /* unfitted */\n",
              "  background-color: var(--sklearn-color-unfitted-level-0);\n",
              "}\n",
              "\n",
              "#sk-container-id-1 div.sk-toggleable__content.fitted pre {\n",
              "  /* unfitted */\n",
              "  background-color: var(--sklearn-color-fitted-level-0);\n",
              "}\n",
              "\n",
              "#sk-container-id-1 input.sk-toggleable__control:checked~div.sk-toggleable__content {\n",
              "  /* Expand drop-down */\n",
              "  max-height: 200px;\n",
              "  max-width: 100%;\n",
              "  overflow: auto;\n",
              "}\n",
              "\n",
              "#sk-container-id-1 input.sk-toggleable__control:checked~label.sk-toggleable__label-arrow:before {\n",
              "  content: \"▾\";\n",
              "}\n",
              "\n",
              "/* Pipeline/ColumnTransformer-specific style */\n",
              "\n",
              "#sk-container-id-1 div.sk-label input.sk-toggleable__control:checked~label.sk-toggleable__label {\n",
              "  color: var(--sklearn-color-text);\n",
              "  background-color: var(--sklearn-color-unfitted-level-2);\n",
              "}\n",
              "\n",
              "#sk-container-id-1 div.sk-label.fitted input.sk-toggleable__control:checked~label.sk-toggleable__label {\n",
              "  background-color: var(--sklearn-color-fitted-level-2);\n",
              "}\n",
              "\n",
              "/* Estimator-specific style */\n",
              "\n",
              "/* Colorize estimator box */\n",
              "#sk-container-id-1 div.sk-estimator input.sk-toggleable__control:checked~label.sk-toggleable__label {\n",
              "  /* unfitted */\n",
              "  background-color: var(--sklearn-color-unfitted-level-2);\n",
              "}\n",
              "\n",
              "#sk-container-id-1 div.sk-estimator.fitted input.sk-toggleable__control:checked~label.sk-toggleable__label {\n",
              "  /* fitted */\n",
              "  background-color: var(--sklearn-color-fitted-level-2);\n",
              "}\n",
              "\n",
              "#sk-container-id-1 div.sk-label label.sk-toggleable__label,\n",
              "#sk-container-id-1 div.sk-label label {\n",
              "  /* The background is the default theme color */\n",
              "  color: var(--sklearn-color-text-on-default-background);\n",
              "}\n",
              "\n",
              "/* On hover, darken the color of the background */\n",
              "#sk-container-id-1 div.sk-label:hover label.sk-toggleable__label {\n",
              "  color: var(--sklearn-color-text);\n",
              "  background-color: var(--sklearn-color-unfitted-level-2);\n",
              "}\n",
              "\n",
              "/* Label box, darken color on hover, fitted */\n",
              "#sk-container-id-1 div.sk-label.fitted:hover label.sk-toggleable__label.fitted {\n",
              "  color: var(--sklearn-color-text);\n",
              "  background-color: var(--sklearn-color-fitted-level-2);\n",
              "}\n",
              "\n",
              "/* Estimator label */\n",
              "\n",
              "#sk-container-id-1 div.sk-label label {\n",
              "  font-family: monospace;\n",
              "  font-weight: bold;\n",
              "  display: inline-block;\n",
              "  line-height: 1.2em;\n",
              "}\n",
              "\n",
              "#sk-container-id-1 div.sk-label-container {\n",
              "  text-align: center;\n",
              "}\n",
              "\n",
              "/* Estimator-specific */\n",
              "#sk-container-id-1 div.sk-estimator {\n",
              "  font-family: monospace;\n",
              "  border: 1px dotted var(--sklearn-color-border-box);\n",
              "  border-radius: 0.25em;\n",
              "  box-sizing: border-box;\n",
              "  margin-bottom: 0.5em;\n",
              "  /* unfitted */\n",
              "  background-color: var(--sklearn-color-unfitted-level-0);\n",
              "}\n",
              "\n",
              "#sk-container-id-1 div.sk-estimator.fitted {\n",
              "  /* fitted */\n",
              "  background-color: var(--sklearn-color-fitted-level-0);\n",
              "}\n",
              "\n",
              "/* on hover */\n",
              "#sk-container-id-1 div.sk-estimator:hover {\n",
              "  /* unfitted */\n",
              "  background-color: var(--sklearn-color-unfitted-level-2);\n",
              "}\n",
              "\n",
              "#sk-container-id-1 div.sk-estimator.fitted:hover {\n",
              "  /* fitted */\n",
              "  background-color: var(--sklearn-color-fitted-level-2);\n",
              "}\n",
              "\n",
              "/* Specification for estimator info (e.g. \"i\" and \"?\") */\n",
              "\n",
              "/* Common style for \"i\" and \"?\" */\n",
              "\n",
              ".sk-estimator-doc-link,\n",
              "a:link.sk-estimator-doc-link,\n",
              "a:visited.sk-estimator-doc-link {\n",
              "  float: right;\n",
              "  font-size: smaller;\n",
              "  line-height: 1em;\n",
              "  font-family: monospace;\n",
              "  background-color: var(--sklearn-color-background);\n",
              "  border-radius: 1em;\n",
              "  height: 1em;\n",
              "  width: 1em;\n",
              "  text-decoration: none !important;\n",
              "  margin-left: 0.5em;\n",
              "  text-align: center;\n",
              "  /* unfitted */\n",
              "  border: var(--sklearn-color-unfitted-level-1) 1pt solid;\n",
              "  color: var(--sklearn-color-unfitted-level-1);\n",
              "}\n",
              "\n",
              ".sk-estimator-doc-link.fitted,\n",
              "a:link.sk-estimator-doc-link.fitted,\n",
              "a:visited.sk-estimator-doc-link.fitted {\n",
              "  /* fitted */\n",
              "  border: var(--sklearn-color-fitted-level-1) 1pt solid;\n",
              "  color: var(--sklearn-color-fitted-level-1);\n",
              "}\n",
              "\n",
              "/* On hover */\n",
              "div.sk-estimator:hover .sk-estimator-doc-link:hover,\n",
              ".sk-estimator-doc-link:hover,\n",
              "div.sk-label-container:hover .sk-estimator-doc-link:hover,\n",
              ".sk-estimator-doc-link:hover {\n",
              "  /* unfitted */\n",
              "  background-color: var(--sklearn-color-unfitted-level-3);\n",
              "  color: var(--sklearn-color-background);\n",
              "  text-decoration: none;\n",
              "}\n",
              "\n",
              "div.sk-estimator.fitted:hover .sk-estimator-doc-link.fitted:hover,\n",
              ".sk-estimator-doc-link.fitted:hover,\n",
              "div.sk-label-container:hover .sk-estimator-doc-link.fitted:hover,\n",
              ".sk-estimator-doc-link.fitted:hover {\n",
              "  /* fitted */\n",
              "  background-color: var(--sklearn-color-fitted-level-3);\n",
              "  color: var(--sklearn-color-background);\n",
              "  text-decoration: none;\n",
              "}\n",
              "\n",
              "/* Span, style for the box shown on hovering the info icon */\n",
              ".sk-estimator-doc-link span {\n",
              "  display: none;\n",
              "  z-index: 9999;\n",
              "  position: relative;\n",
              "  font-weight: normal;\n",
              "  right: .2ex;\n",
              "  padding: .5ex;\n",
              "  margin: .5ex;\n",
              "  width: min-content;\n",
              "  min-width: 20ex;\n",
              "  max-width: 50ex;\n",
              "  color: var(--sklearn-color-text);\n",
              "  box-shadow: 2pt 2pt 4pt #999;\n",
              "  /* unfitted */\n",
              "  background: var(--sklearn-color-unfitted-level-0);\n",
              "  border: .5pt solid var(--sklearn-color-unfitted-level-3);\n",
              "}\n",
              "\n",
              ".sk-estimator-doc-link.fitted span {\n",
              "  /* fitted */\n",
              "  background: var(--sklearn-color-fitted-level-0);\n",
              "  border: var(--sklearn-color-fitted-level-3);\n",
              "}\n",
              "\n",
              ".sk-estimator-doc-link:hover span {\n",
              "  display: block;\n",
              "}\n",
              "\n",
              "/* \"?\"-specific style due to the `<a>` HTML tag */\n",
              "\n",
              "#sk-container-id-1 a.estimator_doc_link {\n",
              "  float: right;\n",
              "  font-size: 1rem;\n",
              "  line-height: 1em;\n",
              "  font-family: monospace;\n",
              "  background-color: var(--sklearn-color-background);\n",
              "  border-radius: 1rem;\n",
              "  height: 1rem;\n",
              "  width: 1rem;\n",
              "  text-decoration: none;\n",
              "  /* unfitted */\n",
              "  color: var(--sklearn-color-unfitted-level-1);\n",
              "  border: var(--sklearn-color-unfitted-level-1) 1pt solid;\n",
              "}\n",
              "\n",
              "#sk-container-id-1 a.estimator_doc_link.fitted {\n",
              "  /* fitted */\n",
              "  border: var(--sklearn-color-fitted-level-1) 1pt solid;\n",
              "  color: var(--sklearn-color-fitted-level-1);\n",
              "}\n",
              "\n",
              "/* On hover */\n",
              "#sk-container-id-1 a.estimator_doc_link:hover {\n",
              "  /* unfitted */\n",
              "  background-color: var(--sklearn-color-unfitted-level-3);\n",
              "  color: var(--sklearn-color-background);\n",
              "  text-decoration: none;\n",
              "}\n",
              "\n",
              "#sk-container-id-1 a.estimator_doc_link.fitted:hover {\n",
              "  /* fitted */\n",
              "  background-color: var(--sklearn-color-fitted-level-3);\n",
              "}\n",
              "</style><div id=\"sk-container-id-1\" class=\"sk-top-container\"><div class=\"sk-text-repr-fallback\"><pre>LinearRegression()</pre><b>In a Jupyter environment, please rerun this cell to show the HTML representation or trust the notebook. <br />On GitHub, the HTML representation is unable to render, please try loading this page with nbviewer.org.</b></div><div class=\"sk-container\" hidden><div class=\"sk-item\"><div class=\"sk-estimator fitted sk-toggleable\"><input class=\"sk-toggleable__control sk-hidden--visually\" id=\"sk-estimator-id-1\" type=\"checkbox\" checked><label for=\"sk-estimator-id-1\" class=\"sk-toggleable__label fitted sk-toggleable__label-arrow\"><div><div>LinearRegression</div></div><div><a class=\"sk-estimator-doc-link fitted\" rel=\"noreferrer\" target=\"_blank\" href=\"https://scikit-learn.org/1.6/modules/generated/sklearn.linear_model.LinearRegression.html\">?<span>Documentation for LinearRegression</span></a><span class=\"sk-estimator-doc-link fitted\">i<span>Fitted</span></span></div></label><div class=\"sk-toggleable__content fitted\"><pre>LinearRegression()</pre></div> </div></div></div></div>"
            ]
          },
          "metadata": {},
          "execution_count": 8
        }
      ]
    },
    {
      "cell_type": "code",
      "source": [
        "#funzione di addestrmaneto\n",
        "def evaluate_model(model, dataset):\n",
        "\n",
        "  X, y = dataset\n",
        "\n",
        "  y_pred = model.predict(X)\n",
        "\n",
        "  print(f\"MSE: {mean_squared_error(y, y_pred):.3f}\")\n",
        "  print(f\"R2: {r2_score(y, y_pred):.3f}\")"
      ],
      "metadata": {
        "id": "75gYJiSODTy5"
      },
      "execution_count": 9,
      "outputs": []
    },
    {
      "cell_type": "code",
      "source": [
        "#valuto modello su set di addestramento\n",
        "evaluate_model(lr, (X_train, y_train))\n",
        "##R2 indica modello perfetto. Sicuro overfitting"
      ],
      "metadata": {
        "colab": {
          "base_uri": "https://localhost:8080/"
        },
        "id": "6kYyudgjDH9R",
        "outputId": "26afa374-7b19-4f31-95cf-28f18be269a3"
      },
      "execution_count": 12,
      "outputs": [
        {
          "output_type": "stream",
          "name": "stdout",
          "text": [
            "MSE: 0.000\n",
            "R2: 1.000\n"
          ]
        }
      ]
    },
    {
      "cell_type": "code",
      "source": [
        "#valutazione del modello sul set di test\n",
        "evaluate_model(lr, (X_test, y_test))"
      ],
      "metadata": {
        "colab": {
          "base_uri": "https://localhost:8080/"
        },
        "id": "FcbWuMkIEMKD",
        "outputId": "448b68fd-90ad-43fa-8374-d91e4c2d9d58"
      },
      "execution_count": 11,
      "outputs": [
        {
          "output_type": "stream",
          "name": "stdout",
          "text": [
            "MSE: 18043.679\n",
            "R2: -0.150\n"
          ]
        }
      ]
    },
    {
      "cell_type": "markdown",
      "source": [
        "### Cross-validation"
      ],
      "metadata": {
        "id": "NOyNql3JE0cG"
      }
    },
    {
      "cell_type": "code",
      "source": [
        "from sklearn.model_selection import  cross_validate, cross_val_score, KFold"
      ],
      "metadata": {
        "id": "nvlQ6rCbEP13"
      },
      "execution_count": 14,
      "outputs": []
    },
    {
      "cell_type": "code",
      "source": [
        "lr = LinearRegression()\n",
        "#LA STANDARDIZAZZIONE deve essere eseguita sui dati che si passano alla fuznione di cros validatio, Per le funzioni\n",
        "#usate non c'è modo\n",
        "#alla funzione di passa la regressione, i dati, il numero di batch -cv, e la funzione di scoring)\n",
        "scores = cross_val_score(lr, X, y, cv=5, scoring=\"r2\")\n",
        "#restituisce il valore di R2 del test per ciascun modello\n",
        "scores"
      ],
      "metadata": {
        "colab": {
          "base_uri": "https://localhost:8080/"
        },
        "id": "3GX2XwylIxBa",
        "outputId": "ad1e1438-fc7e-4495-fe95-ed436e667837"
      },
      "execution_count": 15,
      "outputs": [
        {
          "output_type": "execute_result",
          "data": {
            "text/plain": [
              "array([ 0.29454432,  0.31368347,  0.10498614,  0.05530266, -0.26826511])"
            ]
          },
          "metadata": {},
          "execution_count": 15
        }
      ]
    },
    {
      "cell_type": "code",
      "source": [
        "#media dei valori\n",
        "scores.mean()"
      ],
      "metadata": {
        "colab": {
          "base_uri": "https://localhost:8080/"
        },
        "id": "bR8CAnlbIyLc",
        "outputId": "58ef6b1b-9279-4559-ff3b-a090e07aa206"
      },
      "execution_count": 16,
      "outputs": [
        {
          "output_type": "execute_result",
          "data": {
            "text/plain": [
              "np.float64(0.10005029402140228)"
            ]
          },
          "metadata": {},
          "execution_count": 16
        }
      ]
    },
    {
      "cell_type": "code",
      "source": [
        "lr = LinearRegression()\n",
        "#altra funzione per fare cross-validation\n",
        "#si passa modello, dati, numero di batch -cv, ottenre il risultato per l'eddestramento e non solo per il test\n",
        "cv_results = cross_validate(lr, X, y, cv=5, return_train_score=True)\n",
        "cv_results\n",
        "#restituice il tempo per addestrare, per fare lo score, il risultato del test score e del train score"
      ],
      "metadata": {
        "colab": {
          "base_uri": "https://localhost:8080/"
        },
        "id": "FCVrdbi0Fh-m",
        "outputId": "3e0f3aec-deda-4e39-ad92-d8d9e5ae0f4b"
      },
      "execution_count": 18,
      "outputs": [
        {
          "output_type": "execute_result",
          "data": {
            "text/plain": [
              "{'fit_time': array([0.00480247, 0.00243855, 0.00233293, 0.00228119, 0.00222325]),\n",
              " 'score_time': array([0.00120854, 0.00084686, 0.0007813 , 0.00085402, 0.00071383]),\n",
              " 'test_score': array([ 0.29454432,  0.31368347,  0.10498614,  0.05530266, -0.26826511]),\n",
              " 'train_score': array([1., 1., 1., 1., 1.])}"
            ]
          },
          "metadata": {},
          "execution_count": 18
        }
      ]
    },
    {
      "cell_type": "code",
      "source": [
        "cv_results[\"train_score\"].mean()"
      ],
      "metadata": {
        "colab": {
          "base_uri": "https://localhost:8080/"
        },
        "id": "4fl_Qz1rGas3",
        "outputId": "5fb289d2-a74f-4e35-e30a-ddc0345f28e6"
      },
      "execution_count": 19,
      "outputs": [
        {
          "output_type": "execute_result",
          "data": {
            "text/plain": [
              "np.float64(1.0)"
            ]
          },
          "metadata": {},
          "execution_count": 19
        }
      ]
    },
    {
      "cell_type": "code",
      "source": [
        "cv_results[\"test_score\"].mean()"
      ],
      "metadata": {
        "colab": {
          "base_uri": "https://localhost:8080/"
        },
        "id": "_36v0B6hF49X",
        "outputId": "86fd8ef9-6b79-4d6c-c44c-567cdda16078"
      },
      "execution_count": 20,
      "outputs": [
        {
          "output_type": "execute_result",
          "data": {
            "text/plain": [
              "np.float64(0.10005029402140228)"
            ]
          },
          "metadata": {},
          "execution_count": 20
        }
      ]
    },
    {
      "cell_type": "code",
      "source": [
        "# DATI STANDARDIZZATI occorre costruire la funzione di cross validation\n",
        "# kfold permette di fare la divisione in batch del set di dati.\n",
        "# shuffle mescola id ati\n",
        "kf = KFold(n_splits=5, shuffle=True, random_state=RANDOM_SEED)\n",
        "#di mpasa il dataset che verrà diviso\n",
        "kf.get_n_splits(X)"
      ],
      "metadata": {
        "colab": {
          "base_uri": "https://localhost:8080/"
        },
        "id": "yxwIPUAbIEOY",
        "outputId": "db6d8d0d-7bbb-4546-ac1d-bcd1e2ac7617"
      },
      "execution_count": 26,
      "outputs": [
        {
          "output_type": "execute_result",
          "data": {
            "text/plain": [
              "5"
            ]
          },
          "metadata": {},
          "execution_count": 26
        }
      ]
    },
    {
      "cell_type": "code",
      "source": [
        "#cilco per addestrare i modelli sui vari batch\n",
        "train_score = []\n",
        "test_score = []\n",
        "\n",
        "for train_index, test_index in kf.split(X):\n",
        "  #split restituisce l'indice del batch da utilizzare per il training e per il test\n",
        "  X_train, X_test = X[train_index], X[test_index]\n",
        "  y_train, y_test = y[train_index], y[test_index]\n",
        "#si sesegue la standardizzazione. Ricorda che va fatta su Xtrain con fit.transform\n",
        "# e applicata poi sul x test, solo transform\n",
        "  ss = StandardScaler()\n",
        "  X_train = ss.fit_transform(X_train)\n",
        "  X_test = ss.transform(X_test)\n",
        "#si crea il modello e lo si valuta\n",
        "  lr = LinearRegression()\n",
        "  lr.fit(X_train, y_train)\n",
        "\n",
        "  r2_train = r2_score(y_train, lr.predict(X_train))\n",
        "  train_score.append(r2_train)\n",
        "\n",
        "  r2_test = r2_score(y_test, lr.predict(X_test))\n",
        "  test_score.append(r2_test)\n",
        "#usciti dal ciclo si crea dizionario con test score e train score\n",
        "scores = {\n",
        "      \"train_score\":np.array(train_score),\n",
        "      \"test_score\":np.array(test_score)\n",
        "    }"
      ],
      "metadata": {
        "id": "0vRQfc95JNsN"
      },
      "execution_count": 27,
      "outputs": []
    },
    {
      "cell_type": "code",
      "source": [
        "scores\n",
        "#train score ha valore 1 = overfitting"
      ],
      "metadata": {
        "colab": {
          "base_uri": "https://localhost:8080/"
        },
        "id": "_YlorAmzKjjT",
        "outputId": "9a9e7643-247c-40cc-fe27-8ee2e23f6983"
      },
      "execution_count": 28,
      "outputs": [
        {
          "output_type": "execute_result",
          "data": {
            "text/plain": [
              "{'train_score': array([1., 1., 1., 1., 1.]),\n",
              " 'test_score': array([ 0.21957391, -0.23936058,  0.38698363,  0.30646853,  0.4420139 ])}"
            ]
          },
          "metadata": {},
          "execution_count": 28
        }
      ]
    },
    {
      "cell_type": "code",
      "source": [
        "scores[\"train_score\"].mean()"
      ],
      "metadata": {
        "colab": {
          "base_uri": "https://localhost:8080/"
        },
        "id": "Dn8rPES9Kmc5",
        "outputId": "4658e308-da22-4f3e-9236-e74f2882aab0"
      },
      "execution_count": 29,
      "outputs": [
        {
          "output_type": "execute_result",
          "data": {
            "text/plain": [
              "np.float64(1.0)"
            ]
          },
          "metadata": {},
          "execution_count": 29
        }
      ]
    },
    {
      "cell_type": "code",
      "source": [
        "scores[\"test_score\"].mean()"
      ],
      "metadata": {
        "colab": {
          "base_uri": "https://localhost:8080/"
        },
        "id": "k8ark55MKsaW",
        "outputId": "bbc321d9-ff44-4ae8-ee8e-3035070954de"
      },
      "execution_count": 30,
      "outputs": [
        {
          "output_type": "execute_result",
          "data": {
            "text/plain": [
              "np.float64(0.2231358745203887)"
            ]
          },
          "metadata": {},
          "execution_count": 30
        }
      ]
    },
    {
      "cell_type": "markdown",
      "source": [
        "### LOOCV"
      ],
      "metadata": {
        "id": "QQWfetwSKwA6"
      }
    },
    {
      "cell_type": "markdown",
      "source": [
        "variante di cross validation. Si esegue addestramento su tutti i valori del dataset, meno uno. che sarà usato come test\n",
        "\n",
        "non è altro che una kfold dove il numero di batch è uguale al numero dei dati\n",
        "\n",
        "**si usa per dataset molto piccoli**"
      ],
      "metadata": {
        "id": "m1isCgOgtJUK"
      }
    },
    {
      "cell_type": "code",
      "source": [
        "from sklearn.model_selection import LeaveOneOut"
      ],
      "metadata": {
        "id": "EtGv0yy6KuB2"
      },
      "execution_count": 31,
      "outputs": []
    },
    {
      "cell_type": "code",
      "source": [
        "loo = LeaveOneOut()\n",
        "loo.get_n_splits(X)"
      ],
      "metadata": {
        "colab": {
          "base_uri": "https://localhost:8080/"
        },
        "id": "6ywrUSW3K9Wc",
        "outputId": "86a8c225-13c3-4cd1-ddb1-734dccb0f686"
      },
      "execution_count": 33,
      "outputs": [
        {
          "output_type": "execute_result",
          "data": {
            "text/plain": [
              "100"
            ]
          },
          "metadata": {},
          "execution_count": 33
        }
      ]
    },
    {
      "cell_type": "code",
      "source": [
        "train_score = []\n",
        "test_score = []\n",
        "#ciclo per STANDARDIZZARE I DATI\n",
        "for train_index, test_index in loo.split(X):\n",
        "\n",
        "  X_train, X_test = X[train_index], X[test_index]\n",
        "  y_train, y_test = y[train_index], y[test_index]\n",
        "\n",
        "  ss = StandardScaler()\n",
        "  X_train = ss.fit_transform(X_train)\n",
        "  X_test = ss.transform(X_test)\n",
        "\n",
        "  lr = LinearRegression()\n",
        "  lr.fit(X_train, y_train)\n",
        "\n",
        "#si usa il MSE come metrica perchè R2 non puù essere valutato per un solo dato di test\n",
        "  mse_train = mean_squared_error(y_train, lr.predict(X_train))\n",
        "  train_score.append(mse_train)\n",
        "\n",
        "  r2_test = mean_squared_error(y_test, lr.predict(X_test))\n",
        "  test_score.append(r2_test)\n",
        "\n",
        "costs = {\n",
        "      \"train_cost\":np.array(train_score),\n",
        "      \"test_cost\":np.array(test_score)\n",
        "    }"
      ],
      "metadata": {
        "id": "JhHfUGVBK32J"
      },
      "execution_count": 37,
      "outputs": []
    },
    {
      "cell_type": "code",
      "source": [
        "costs\n",
        "#SME non è un fuzione di score ma di costo"
      ],
      "metadata": {
        "id": "CvNvwEBuLQo8",
        "colab": {
          "base_uri": "https://localhost:8080/"
        },
        "outputId": "0698a21a-385b-49e9-995c-9f09cac89eb0"
      },
      "execution_count": 38,
      "outputs": [
        {
          "output_type": "execute_result",
          "data": {
            "text/plain": [
              "{'train_cost': array([1.51723801e-25, 9.33615128e-26, 1.53370815e-25, 1.20611796e-25,\n",
              "        8.45359283e-26, 1.65065304e-25, 8.51500923e-26, 1.58230900e-25,\n",
              "        9.17732091e-26, 1.07711036e-25, 8.91775858e-26, 1.07115677e-25,\n",
              "        1.24592883e-25, 9.57666621e-26, 1.18243174e-25, 9.39702903e-26,\n",
              "        1.47915627e-25, 1.13269366e-25, 1.17087517e-25, 1.87076276e-25,\n",
              "        1.06316808e-25, 9.88807981e-26, 1.41164890e-25, 1.33252408e-25,\n",
              "        1.03805075e-25, 8.66909369e-26, 9.48842534e-26, 1.16205235e-25,\n",
              "        1.48104061e-25, 8.55724756e-26, 9.81436354e-26, 9.62381300e-26,\n",
              "        1.29066218e-25, 9.73500892e-26, 1.24286008e-25, 1.36606485e-25,\n",
              "        1.21709891e-25, 1.43843001e-25, 1.51804918e-25, 1.47140599e-25,\n",
              "        1.72713462e-25, 1.08821529e-25, 1.29401141e-25, 1.24642605e-25,\n",
              "        1.15800606e-25, 1.30440079e-25, 8.25565089e-26, 1.24622971e-25,\n",
              "        9.41170344e-26, 7.92636282e-26, 9.77381769e-26, 1.24338152e-25,\n",
              "        8.61025582e-26, 1.25644538e-25, 1.31223904e-25, 9.23252524e-26,\n",
              "        1.78021746e-25, 9.25652255e-26, 8.76483112e-26, 1.18525729e-25,\n",
              "        1.16026236e-25, 1.15807873e-25, 9.83195753e-26, 1.71147852e-25,\n",
              "        7.41098644e-26, 9.82104416e-26, 9.21054550e-26, 1.20540401e-25,\n",
              "        1.67546439e-25, 1.20681280e-25, 8.30193073e-26, 9.13431763e-26,\n",
              "        1.00947295e-25, 8.19084637e-26, 1.20084614e-25, 1.30761616e-25,\n",
              "        1.02047429e-25, 1.71873540e-25, 7.13942705e-26, 1.28480867e-25,\n",
              "        7.93760449e-26, 1.05692732e-25, 1.06538518e-25, 7.45527421e-26,\n",
              "        1.44116823e-25, 1.10712500e-25, 1.03963517e-25, 1.02269043e-25,\n",
              "        1.49197438e-25, 1.16776148e-25, 9.82742836e-26, 1.37449116e-25,\n",
              "        1.11530748e-25, 8.03567504e-26, 9.66217554e-26, 1.54479460e-25,\n",
              "        1.29737722e-25, 9.86384345e-26, 1.03026732e-25, 9.56716800e-26]),\n",
              " 'test_cost': array([3.02515337e+02, 5.09228198e+02, 8.71891117e+03, 8.12277534e+02,\n",
              "        5.53092039e+02, 1.92023479e+03, 2.53128257e+03, 1.21273574e+04,\n",
              "        6.58960582e+02, 3.57298662e+02, 7.08813997e+02, 5.11774431e+03,\n",
              "        1.01684403e+03, 2.13224227e+02, 3.87469154e+03, 2.01671596e+03,\n",
              "        2.08280225e+04, 2.67343995e+03, 7.18738863e+03, 2.45737587e+02,\n",
              "        1.57647069e+03, 1.77757886e+04, 2.01838494e+02, 6.39173327e+03,\n",
              "        8.81330438e+02, 6.87836852e+03, 4.61140607e+03, 2.51203028e+04,\n",
              "        3.21071304e+03, 1.32397080e+03, 2.08449858e+03, 3.15743378e+02,\n",
              "        3.04239480e+02, 1.09322830e+03, 3.30908202e+02, 1.42628026e+03,\n",
              "        1.63745470e+04, 1.21564728e+03, 3.07983535e+04, 1.52665265e+03,\n",
              "        1.81540182e+02, 2.57172570e+02, 1.02985446e+04, 4.05216580e+03,\n",
              "        2.77742854e+03, 4.04876163e+04, 1.16898434e+04, 4.29995997e+02,\n",
              "        3.12936567e+04, 7.68603983e+02, 1.31182057e+04, 1.93822179e+04,\n",
              "        4.34830386e+03, 5.52078651e+03, 2.91372594e+03, 6.19516415e+02,\n",
              "        5.11295048e+04, 1.21964273e+04, 1.81420971e+04, 1.85829336e+04,\n",
              "        4.05736894e+03, 1.66996907e+04, 4.81060680e+03, 8.11073342e+02,\n",
              "        1.64389810e+03, 6.41084062e+00, 8.90370897e+02, 1.04721196e+03,\n",
              "        4.13629857e+03, 1.40488113e+03, 1.47959364e+04, 1.37558110e+04,\n",
              "        1.86470212e+02, 2.18902077e+04, 2.13491572e+04, 1.12649494e+03,\n",
              "        2.69984804e+03, 3.55453460e+02, 4.44285155e+02, 1.90444430e+03,\n",
              "        2.55860769e+04, 6.78897986e+03, 2.41116994e+03, 1.32941085e+04,\n",
              "        3.21216470e+03, 2.59746499e+02, 1.87608890e+04, 9.43270206e+03,\n",
              "        1.10952326e+04, 8.55689624e+01, 4.85830817e+03, 4.90739767e+02,\n",
              "        6.54244259e+03, 4.44608690e+03, 1.29316466e+03, 2.28164258e+03,\n",
              "        1.67854028e+03, 4.24153368e+01, 8.41724264e+02, 5.00149956e+03])}"
            ]
          },
          "metadata": {},
          "execution_count": 38
        }
      ]
    },
    {
      "cell_type": "code",
      "source": [
        "scores[\"train_score\"].mean()\n",
        "#valore prossimo allo zero"
      ],
      "metadata": {
        "id": "lNoxZ3riLSOG",
        "colab": {
          "base_uri": "https://localhost:8080/"
        },
        "outputId": "48a86266-ec51-42af-ac5c-65a383b5aa55"
      },
      "execution_count": 39,
      "outputs": [
        {
          "output_type": "execute_result",
          "data": {
            "text/plain": [
              "np.float64(1.1518666709145146e-25)"
            ]
          },
          "metadata": {},
          "execution_count": 39
        }
      ]
    },
    {
      "cell_type": "code",
      "source": [
        "scores[\"test_score\"].mean()\n",
        "#valore molto alto\n",
        "#si tratta di overfitting"
      ],
      "metadata": {
        "id": "M_S2-mB6LTsj",
        "colab": {
          "base_uri": "https://localhost:8080/"
        },
        "outputId": "b41ee847-e2f2-4f61-99b1-58622b48ca77"
      },
      "execution_count": 40,
      "outputs": [
        {
          "output_type": "execute_result",
          "data": {
            "text/plain": [
              "np.float64(6764.252122395523)"
            ]
          },
          "metadata": {},
          "execution_count": 40
        }
      ]
    },
    {
      "cell_type": "markdown",
      "source": [
        "### Learning Curve\n"
      ],
      "metadata": {
        "id": "ZkQECgxiLsFw"
      }
    },
    {
      "cell_type": "code",
      "source": [
        "from sklearn.model_selection import learning_curve\n",
        "import matplotlib.pyplot as plt\n",
        "import seaborn as sns\n",
        "\n",
        "train_sizes_abs, train_scores, test_scores = learning_curve(LinearRegression(), X, y, random_state=RANDOM_SEED)"
      ],
      "metadata": {
        "id": "xUIADO9hLV5Q"
      },
      "execution_count": null,
      "outputs": []
    },
    {
      "cell_type": "code",
      "source": [
        "plt.plot(train_sizes_abs, train_scores.mean(axis=1))\n",
        "plt.plot(train_sizes_abs, test_scores.mean(axis=1))\n",
        "plt.show()"
      ],
      "metadata": {
        "colab": {
          "base_uri": "https://localhost:8080/",
          "height": 265
        },
        "id": "PHwLM64GMCJ8",
        "outputId": "71c6a2c4-a3bf-44ab-8a8c-871ee544a520"
      },
      "execution_count": null,
      "outputs": [
        {
          "output_type": "display_data",
          "data": {
            "image/png": "[encoded data removed]",
            "text/plain": [
              "<Figure size 432x288 with 1 Axes>"
            ]
          },
          "metadata": {
            "needs_background": "light"
          }
        }
      ]
    },
    {
      "cell_type": "code",
      "source": [],
      "metadata": {
        "id": "5Ht1h7rMOGVt"
      },
      "execution_count": null,
      "outputs": []
    }
  ]
}