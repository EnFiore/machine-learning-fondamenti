{
  "nbformat": 4,
  "nbformat_minor": 0,
  "metadata": {
    "colab": {
      "name": "binary_classification.ipynb",
      "provenance": [],
      "include_colab_link": true
    },
    "kernelspec": {
      "name": "python3",
      "display_name": "Python 3"
    },
    "language_info": {
      "name": "python"
    }
  },
  "cells": [
    {
      "cell_type": "markdown",
      "metadata": {
        "id": "view-in-github",
        "colab_type": "text"
      },
      "source": [
        "<a href=\"https://colab.research.google.com/github/EnFiore/machine-learning-fondamenti/blob/main/4%20-%20La%20Classificazione/binary_classification.ipynb\" target=\"_parent\"><img src=\"https://colab.research.google.com/assets/colab-badge.svg\" alt=\"Open In Colab\"/></a>"
      ]
    },
    {
      "cell_type": "markdown",
      "source": [
        "# La Classificazione Binaria"
      ],
      "metadata": {
        "id": "Pyz1mX-elt8R"
      }
    },
    {
      "cell_type": "code",
      "execution_count": null,
      "metadata": {
        "id": "DOEWY4KwltEs"
      },
      "outputs": [],
      "source": [
        "import numpy as np\n",
        "import pandas as pd\n",
        "import matplotlib.pyplot as plt\n",
        "import seaborn as sns\n",
        "from sklearn.datasets import make_classification\n",
        "from sklearn.model_selection import train_test_split"
      ]
    },
    {
      "cell_type": "markdown",
      "source": [
        "### Generiamo il dataset"
      ],
      "metadata": {
        "id": "94Vjt41ubHvY"
      }
    },
    {
      "cell_type": "code",
      "source": [
        "X, y = make_classification(n_samples=100, n_features=2, n_informative=2, n_redundant=0, n_repeated=0, n_classes=2, random_state=0)\n",
        "plt.scatter(X[:,0], X[:,1], c=y)\n",
        "# a c= si passa l'array con la classe, nell'esempio è y che ha la classificazione binaria 1 e 0. In automatico sono assegnati i colori"
      ],
      "metadata": {
        "colab": {
          "base_uri": "https://localhost:8080/",
          "height": 283
        },
        "id": "f0nxZSNyly3r",
        "outputId": "7eafc0d6-bbf7-4f82-e5f1-3c448ba413f3"
      },
      "execution_count": null,
      "outputs": [
        {
          "output_type": "execute_result",
          "data": {
            "text/plain": [
              "<matplotlib.collections.PathCollection at 0x7f351bab2b90>"
            ]
          },
          "metadata": {},
          "execution_count": 2
        },
        {
          "output_type": "display_data",
          "data": {
            "image/png": "[encoded data removed]",
            "text/plain": [
              "<Figure size 432x288 with 1 Axes>"
            ]
          },
          "metadata": {
            "needs_background": "light"
          }
        }
      ]
    },
    {
      "cell_type": "markdown",
      "source": [
        "### Creiamo il modello"
      ],
      "metadata": {
        "id": "Vyw9FpsKbMGU"
      }
    },
    {
      "cell_type": "code",
      "source": [
        "X_train, X_test, y_train, y_test = train_test_split(X, y, test_size=.3)"
      ],
      "metadata": {
        "id": "yPCQHXfDm0Sj"
      },
      "execution_count": null,
      "outputs": []
    },
    {
      "cell_type": "code",
      "source": [
        "from sklearn.linear_model import LogisticRegression\n",
        "\n",
        "lr = LogisticRegression()\n",
        "lr.fit(X_train, y_train)"
      ],
      "metadata": {
        "colab": {
          "base_uri": "https://localhost:8080/"
        },
        "id": "kFpNbxnnm49Z",
        "outputId": "bac8891b-03ba-4bb7-bf1b-13deeb4e1a30"
      },
      "execution_count": null,
      "outputs": [
        {
          "output_type": "execute_result",
          "data": {
            "text/plain": [
              "LogisticRegression()"
            ]
          },
          "metadata": {},
          "execution_count": 4
        }
      ]
    },
    {
      "cell_type": "markdown",
      "source": [
        "### Visualizziamo il decision boundary"
      ],
      "metadata": {
        "id": "X_JYGHdtbOUP"
      }
    },
    {
      "cell_type": "code",
      "source": [
        "# Il metodo meshgrid ci permette di creare una griglia di punti\n",
        "# a = np.array([[1, 2, 3, 4, 5]])\n",
        "# b = np.array([[10, 20, 30, 40, 50]])\n",
        "# xx, yy = np.meshgrid(a, b)\n",
        "# plt.scatter(xx, yy)"
      ],
      "metadata": {
        "id": "lWftmm4QbrAt"
      },
      "execution_count": null,
      "outputs": []
    },
    {
      "cell_type": "code",
      "source": [
        "def plot_decision_boundary(model, X, Y):\n",
        "\n",
        "    h = .02\n",
        "\n",
        "    x_min, x_max = X[:, 0].min()-.1, X[:, 0].max()+.1 #recupero minimo e massimo dei valori\n",
        "    y_min, y_max = X[:, 1].min()-.1, X[:, 1].max()+.1\n",
        "\n",
        "    xx, yy = np.meshgrid(np.arange(x_min, x_max, h),\n",
        "                         np.arange(y_min, y_max, h))\n",
        "\n",
        "#meshgrid permette di creare una griglia di punti, passandogli le coordinate max e minime e dandogli uno step che è il valore di h\n",
        "\n",
        "    Z = model.predict(np.c_[xx.ravel(), yy.ravel()])\n",
        "\n",
        "    Z = Z.reshape(xx.shape)\n",
        "    plt.contourf(xx, yy, Z, cmap=plt.cm.Paired)\n",
        "\n",
        "    X_m = X[Y==1]\n",
        "    X_b = X[Y==0]\n",
        "    plt.scatter(X_b[:, 0], X_b[:, 1], c=\"green\",  edgecolor='white')\n",
        "    plt.scatter(X_m[:, 0], X_m[:, 1], c=\"red\",  edgecolor='white')\n"
      ],
      "metadata": {
        "id": "CUKZpykanaDq"
      },
      "execution_count": null,
      "outputs": []
    },
    {
      "cell_type": "code",
      "source": [
        "plot_decision_boundary(lr, X_train, y_train)"
      ],
      "metadata": {
        "colab": {
          "base_uri": "https://localhost:8080/",
          "height": 265
        },
        "id": "4zJRSJb3ocjB",
        "outputId": "83e25a23-2404-44dc-e41c-06b60f4ab0ab"
      },
      "execution_count": null,
      "outputs": [
        {
          "output_type": "display_data",
          "data": {
            "image/png": "[encoded data removed]",
            "text/plain": [
              "<Figure size 432x288 with 1 Axes>"
            ]
          },
          "metadata": {
            "needs_background": "light"
          }
        }
      ]
    },
    {
      "cell_type": "code",
      "source": [
        "plot_decision_boundary(lr, X_test, y_test)"
      ],
      "metadata": {
        "colab": {
          "base_uri": "https://localhost:8080/",
          "height": 265
        },
        "id": "vN2J4In2odyC",
        "outputId": "84067eea-3312-4ec9-db01-87bbc3ae604a"
      },
      "execution_count": null,
      "outputs": [
        {
          "output_type": "display_data",
          "data": {
            "image/png": "[encoded data removed]",
            "text/plain": [
              "<Figure size 432x288 with 1 Axes>"
            ]
          },
          "metadata": {
            "needs_background": "light"
          }
        }
      ]
    },
    {
      "cell_type": "markdown",
      "source": [
        "### Valutiamo il modello"
      ],
      "metadata": {
        "id": "6RSGwlZ8cYNs"
      }
    },
    {
      "cell_type": "code",
      "source": [
        "from sklearn.metrics import confusion_matrix\n",
        "from sklearn.metrics import accuracy_score, log_loss\n",
        "from sklearn.metrics import recall_score, precision_score, f1_score\n",
        "from sklearn.metrics import plot_roc_curve"
      ],
      "metadata": {
        "id": "tYhKZDAqcPgT"
      },
      "execution_count": null,
      "outputs": []
    },
    {
      "cell_type": "code",
      "source": [
        "y_pred_train = lr.predict(X_train)\n",
        "y_proba_train = lr.predict_proba(X_train)\n",
        "y_pred_test = lr.predict(X_test)\n",
        "y_proba_test = lr.predict_proba(X_test)"
      ],
      "metadata": {
        "id": "zKC5elDbcjCB"
      },
      "execution_count": null,
      "outputs": []
    },
    {
      "cell_type": "code",
      "source": [
        "print(f\"TRAIN LOSS: {log_loss(y_train, y_proba_train)}\")\n",
        "print(f\"TEST LOSS: {log_loss(y_test, y_proba_test)}\")"
      ],
      "metadata": {
        "colab": {
          "base_uri": "https://localhost:8080/"
        },
        "id": "UHuSAjJOe2Ez",
        "outputId": "b571ee29-fd1b-4f8a-abf1-de899c423cae"
      },
      "execution_count": null,
      "outputs": [
        {
          "output_type": "stream",
          "name": "stdout",
          "text": [
            "TRAIN LOSS: 0.31166393798252984\n",
            "TEST LOSS: 0.20693769790978758\n"
          ]
        }
      ]
    },
    {
      "cell_type": "code",
      "source": [
        "def plot_confusion_matrix(y_true, y_pred, labels=[\"Negative\", \"Positive\"], show_precision=True, show_recall=True):\n",
        "\n",
        "  cm = confusion_matrix(y_true, y_pred) # tn, fp, fn, tp\n",
        "\n",
        "  df_cm = pd.DataFrame(cm, index = labels,\n",
        "                    columns = [\"Predicted \"+labels[0],\"Predicted \"+labels[1]])\n",
        "  sns.heatmap(df_cm, annot=True)"
      ],
      "metadata": {
        "id": "xokiZbwu3RL9"
      },
      "execution_count": null,
      "outputs": []
    },
    {
      "cell_type": "code",
      "source": [
        "plot_confusion_matrix(y_train, y_pred_train)"
      ],
      "metadata": {
        "colab": {
          "base_uri": "https://localhost:8080/",
          "height": 265
        },
        "id": "kKgoFcIt1nmg",
        "outputId": "4d457dab-c7f6-4fb1-b8a3-3ff678bf9e92"
      },
      "execution_count": null,
      "outputs": [
        {
          "output_type": "display_data",
          "data": {
            "image/png": "[encoded data removed]",
            "text/plain": [
              "<Figure size 432x288 with 2 Axes>"
            ]
          },
          "metadata": {
            "needs_background": "light"
          }
        }
      ]
    },
    {
      "cell_type": "code",
      "source": [
        "def classification_report(y_true, y_pred):\n",
        "  print(f\"PRECISION: {precision_score(y_true, y_pred)}\")\n",
        "  print(f\"RECALL: {recall_score(y_true, y_pred)}\")\n",
        "  print(f\"F1: {f1_score(y_true, y_pred)}\")\n",
        "  print(f\"ACCURACY: {accuracy_score(y_true, y_pred)}\")\n",
        "\n",
        "print(\"TRAIN REPORT\")\n",
        "classification_report(y_train, y_pred_train) # con l'argomento digits definiamo la precisione\n",
        "print(\"\\nTEST REPORT\")\n",
        "classification_report(y_test, y_pred_test)"
      ],
      "metadata": {
        "colab": {
          "base_uri": "https://localhost:8080/"
        },
        "id": "3nbcDzXmc59z",
        "outputId": "32aac992-e3de-4b04-e1e5-25f13737c327"
      },
      "execution_count": null,
      "outputs": [
        {
          "output_type": "stream",
          "name": "stdout",
          "text": [
            "TRAIN REPORT\n",
            "PRECISION: 0.9411764705882353\n",
            "RECALL: 0.8888888888888888\n",
            "F1: 0.9142857142857143\n",
            "ACCURACY: 0.9142857142857143\n",
            "\n",
            "TEST REPORT\n",
            "PRECISION: 1.0\n",
            "RECALL: 0.8571428571428571\n",
            "F1: 0.923076923076923\n",
            "ACCURACY: 0.9333333333333333\n"
          ]
        }
      ]
    },
    {
      "cell_type": "code",
      "source": [
        "from sklearn.metrics import classification_report\n",
        "\n",
        "print(\"TRAIN REPORT\")\n",
        "print(classification_report(y_train, y_pred_train)) # con l'argomento digits definiamo la precisione\n",
        "print(\"TEST REPORT\")\n",
        "print(classification_report(y_test, y_pred_test))"
      ],
      "metadata": {
        "colab": {
          "base_uri": "https://localhost:8080/"
        },
        "id": "-bjMsPy7dN6t",
        "outputId": "c46a78ef-11f3-47c5-99d3-55e49ac68f60"
      },
      "execution_count": null,
      "outputs": [
        {
          "output_type": "stream",
          "name": "stdout",
          "text": [
            "TRAIN REPORT\n",
            "              precision    recall  f1-score   support\n",
            "\n",
            "           0       0.89      0.94      0.91        34\n",
            "           1       0.94      0.89      0.91        36\n",
            "\n",
            "    accuracy                           0.91        70\n",
            "   macro avg       0.92      0.92      0.91        70\n",
            "weighted avg       0.92      0.91      0.91        70\n",
            "\n",
            "TEST REPORT\n",
            "              precision    recall  f1-score   support\n",
            "\n",
            "           0       0.89      1.00      0.94        16\n",
            "           1       1.00      0.86      0.92        14\n",
            "\n",
            "    accuracy                           0.93        30\n",
            "   macro avg       0.94      0.93      0.93        30\n",
            "weighted avg       0.94      0.93      0.93        30\n",
            "\n"
          ]
        }
      ]
    },
    {
      "cell_type": "code",
      "source": [
        "plot_roc_curve(lr, X_train, y_train)"
      ],
      "metadata": {
        "colab": {
          "base_uri": "https://localhost:8080/",
          "height": 354
        },
        "id": "au6fbCAYN_dD",
        "outputId": "47ea3418-a1b9-4059-c044-c063149ef7a6"
      },
      "execution_count": null,
      "outputs": [
        {
          "output_type": "stream",
          "name": "stderr",
          "text": [
            "/usr/local/lib/python3.7/dist-packages/sklearn/utils/deprecation.py:87: FutureWarning: Function plot_roc_curve is deprecated; Function :func:`plot_roc_curve` is deprecated in 1.0 and will be removed in 1.2. Use one of the class methods: :meth:`sklearn.metric.RocCurveDisplay.from_predictions` or :meth:`sklearn.metric.RocCurveDisplay.from_estimator`.\n",
            "  warnings.warn(msg, category=FutureWarning)\n"
          ]
        },
        {
          "output_type": "execute_result",
          "data": {
            "text/plain": [
              "<sklearn.metrics._plot.roc_curve.RocCurveDisplay at 0x7f3512f76990>"
            ]
          },
          "metadata": {},
          "execution_count": 16
        },
        {
          "output_type": "display_data",
          "data": {
            "image/png": "[encoded data removed]",
            "text/plain": [
              "<Figure size 432x288 with 1 Axes>"
            ]
          },
          "metadata": {
            "needs_background": "light"
          }
        }
      ]
    },
    {
      "cell_type": "code",
      "source": [
        "plot_roc_curve(lr, X_test, y_test)"
      ],
      "metadata": {
        "colab": {
          "base_uri": "https://localhost:8080/",
          "height": 354
        },
        "id": "_lMKJAGFOD0j",
        "outputId": "e00c6328-281a-4e83-b743-714e99da8b42"
      },
      "execution_count": null,
      "outputs": [
        {
          "output_type": "stream",
          "name": "stderr",
          "text": [
            "/usr/local/lib/python3.7/dist-packages/sklearn/utils/deprecation.py:87: FutureWarning: Function plot_roc_curve is deprecated; Function :func:`plot_roc_curve` is deprecated in 1.0 and will be removed in 1.2. Use one of the class methods: :meth:`sklearn.metric.RocCurveDisplay.from_predictions` or :meth:`sklearn.metric.RocCurveDisplay.from_estimator`.\n",
            "  warnings.warn(msg, category=FutureWarning)\n"
          ]
        },
        {
          "output_type": "execute_result",
          "data": {
            "text/plain": [
              "<sklearn.metrics._plot.roc_curve.RocCurveDisplay at 0x7f3512d18a90>"
            ]
          },
          "metadata": {},
          "execution_count": 17
        },
        {
          "output_type": "display_data",
          "data": {
            "image/png": "[encoded data removed]",
            "text/plain": [
              "<Figure size 432x288 with 1 Axes>"
            ]
          },
          "metadata": {
            "needs_background": "light"
          }
        }
      ]
    },
    {
      "cell_type": "code",
      "source": [],
      "metadata": {
        "id": "WRv58grUOI-x"
      },
      "execution_count": null,
      "outputs": []
    }
  ]
}